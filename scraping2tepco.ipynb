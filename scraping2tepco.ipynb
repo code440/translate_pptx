{
  "nbformat": 4,
  "nbformat_minor": 0,
  "metadata": {
    "colab": {
      "name": "scraping2tepco.ipynb",
      "provenance": [],
      "collapsed_sections": [],
      "include_colab_link": true
    },
    "kernelspec": {
      "name": "python3",
      "display_name": "Python 3"
    }
  },
  "cells": [
    {
      "cell_type": "markdown",
      "metadata": {
        "id": "view-in-github",
        "colab_type": "text"
      },
      "source": [
        "<a href=\"https://colab.research.google.com/github/code440/translate_pptx/blob/master/scraping2tepco.ipynb\" target=\"_parent\"><img src=\"https://colab.research.google.com/assets/colab-badge.svg\" alt=\"Open In Colab\"/></a>"
      ]
    },
    {
      "cell_type": "code",
      "metadata": {
        "id": "yDjNuocNpI_V",
        "colab_type": "code",
        "colab": {}
      },
      "source": [
        "pip install Requests beautifulsoup4 > /dev/null # 出力非表示"
      ],
      "execution_count": 0,
      "outputs": []
    },
    {
      "cell_type": "code",
      "metadata": {
        "id": "ag6WcQNupKuc",
        "colab_type": "code",
        "colab": {}
      },
      "source": [
        "# import requests\n",
        "from urllib.request import urlopen\n",
        "from bs4 import BeautifulSoup"
      ],
      "execution_count": 0,
      "outputs": []
    },
    {
      "cell_type": "code",
      "metadata": {
        "id": "vkaSWhUuqQHd",
        "colab_type": "code",
        "colab": {}
      },
      "source": [
        "# url=\"http://teideninfo.tepco.co.jp/day/teiden/\"\n",
        "url=\"http://teideninfo.tepco.co.jp/day/teiden/day001-j.html\"\n",
        "\n",
        "# html = requests.get(url)\n",
        "\n",
        "html = urlopen(url)\n",
        "soup = BeautifulSoup(html,\"html.parser\")\n",
        "\n",
        "# span = soup.find_all(\"span\")"
      ],
      "execution_count": 0,
      "outputs": []
    },
    {
      "cell_type": "code",
      "metadata": {
        "id": "rzdZyW1VVz1z",
        "colab_type": "code",
        "colab": {}
      },
      "source": [
        "tables = soup.findAll(\"table\", {\"class\":\"bo_lv4\"})\n",
        "\n",
        "table = tables[0]\n",
        "# print(table)\n",
        "# rows = table.findAll(\"tr\")\n",
        "\n",
        "# print(rows)\n",
        "\n",
        "# print(soup.findAll(\"table\", {\"class\":\"bo_lv4\"}))\n",
        "# rows = table.findAll(\"tr\")"
      ],
      "execution_count": 0,
      "outputs": []
    },
    {
      "cell_type": "code",
      "metadata": {
        "id": "QunyyoAiYKtw",
        "colab_type": "code",
        "outputId": "414295ab-c9ab-4148-8827-202c43f9ffa8",
        "colab": {
          "base_uri": "https://localhost:8080/",
          "height": 935
        }
      },
      "source": [
        "import pandas as pd\n",
        "\n",
        "a_values = [1, 2, 3, 4, 5]\n",
        "df = pd.DataFrame({\"A\": a_values})\n",
        "\n",
        "# print(df)\n",
        "rows = table.findAll(\"tr\")\n",
        "tbodys = table.findAll(\"tbody\")\n",
        "\n",
        "dic = {}\n",
        "for tbody in tbodys:\n",
        "    # print(tbody)\n",
        "    trs = tbody.findAll(\"tr\")\n",
        "    # print(\"tr {}\".format(len(trs)))\n",
        "    len_col = len(trs) # len_tr\n",
        "    print(\"len_col {}\".format(len_col))\n",
        "    ken = \"\"\n",
        "    for idx, tr in enumerate(trs):\n",
        "        tds = tr.findAll(\"td\")\n",
        "        print(\"len_tds {}\".format(len(tds)))\n",
        "        \n",
        "        for col, td in enumerate(tds):\n",
        "            if len(tds) < 7:\n",
        "                if col == 0:\n",
        "                    shi = td.get_text(',').split(\",\")[0]\n",
        "                    # dic[ken][shi] = {}\n",
        "                    dic[ken].setdefault(shi, {})\n",
        "                    print(\"{}-ken {}-shi\".format(ken, shi))\n",
        "                elif col == 1:\n",
        "                    towns = td.get_text(',').split(\",\")\n",
        "                    for town in towns:\n",
        "                        # dic[ken][shi][town] = {}\n",
        "                        dic[ken][shi].setdefault(town, {})\n",
        "            else:    \n",
        "                if col == 1:\n",
        "                    ken = td.get_text(',').split(\",\")[0]\n",
        "                    dic.setdefault(ken, {})\n",
        "                    # print(\"ken {}\".format(ken))\n",
        "                elif col == 2:\n",
        "                    shi = td.get_text(',').split(\",\")[0]\n",
        "                    dic[ken].setdefault(shi, {})\n",
        "\n",
        "                elif col == 3:\n",
        "                    towns = td.get_text(',').split(\",\")\n",
        "                    for town in towns:\n",
        "                        # dic[ken][shi][town] = {}\n",
        "                        dic[ken][shi].setdefault(town, {})\n",
        "\n",
        "            # print(td.get_text(',').split(\",\"))\n",
        "            \n",
        "            \n",
        "            # if td.has_attr(\"rowspan\"):\n",
        "            #     rowspan = td[\"rowspan\"]\n",
        "                # print(rowspan)\n",
        "            # print(td.get_text(',').split(\",\"))\n",
        "        # print(\"----------------------------------\")\n",
        "\n",
        "from pprint import pprint\n",
        "pprint(dic)\n",
        "\n",
        "# for row in rows:\n",
        "#     # for cell in row.findAll(['td', 'th']):\n",
        "#     # for cell in row.findAll('td'):\n",
        "#     # for cell in row.findAll('td'):\n",
        "\n",
        "#     # for tr in trs:\n",
        "#     #     row = [td.text for td in tr.find_all([\"td\", \"th\"])]\n",
        "#     #     rows.append(row)\n",
        "#     # text = [td.text for td in row.find_all([\"td\", \"th\"])]\n",
        "#     # print(text)\n",
        "#     # for cell in row.findAll(['td', 'th']):\n",
        "#     #     print(cell.get_text(',').split(\",\"))\n",
        "#     print(\"row\")\n",
        "#     for cell in row.findAll('td'):\n",
        "#         # print(cell.has_key(\"rowspan\"))\n",
        "#         if cell.has_attr(\"rowspan\"):\n",
        "#             print(cell[\"rowspan\"])\n",
        "#         print(cell.get_text(',').split(\",\"))\n",
        "#     #     print(cell)\n",
        "#     #     # print(cell.findAll(\"td\"))"
      ],
      "execution_count": 34,
      "outputs": [
        {
          "output_type": "stream",
          "text": [
            "len_col 8\n",
            "len_tds 7\n",
            "len_tds 2\n",
            "千葉県-ken 鋸南町-shi\n",
            "len_tds 2\n",
            "千葉県-ken 南房総市-shi\n",
            "len_tds 7\n",
            "len_tds 7\n",
            "len_tds 7\n",
            "len_tds 7\n",
            "len_tds 7\n",
            "{'千葉県': {'南房総市': {'丸山平塚': {},\n",
            "                  '二部': {},\n",
            "                  '井野': {},\n",
            "                  '合戸': {},\n",
            "                  '吉沢': {},\n",
            "                  '大井': {},\n",
            "                  '山田': {},\n",
            "                  '川上': {},\n",
            "                  '川谷': {},\n",
            "                  '平久里下': {},\n",
            "                  '平久里中': {},\n",
            "                  '平塚': {},\n",
            "                  '荒川': {}},\n",
            "         '君津市': {'平田': {},\n",
            "                 '東日笠': {},\n",
            "                 '東猪原': {},\n",
            "                 '東粟倉': {},\n",
            "                 '植畑': {},\n",
            "                 '清和市場': {},\n",
            "                 '西猪原': {},\n",
            "                 '西粟倉': {},\n",
            "                 '鹿野山': {}},\n",
            "         '鋸南町': {'上佐久間': {}, '中佐久間': {}},\n",
            "         '鴨川市': {'平塚': {}}},\n",
            " '茨城県': {'潮来市': {'下田': {},\n",
            "                 '古高': {},\n",
            "                 '大山': {},\n",
            "                 '宮前１丁目': {},\n",
            "                 '宮前２丁目': {},\n",
            "                 '小泉': {},\n",
            "                 '川尾': {},\n",
            "                 '延方西': {},\n",
            "                 '新宮': {},\n",
            "                 '曲松': {},\n",
            "                 '曲松南': {},\n",
            "                 '水原': {},\n",
            "                 '洲崎': {},\n",
            "                 '辻': {},\n",
            "                 '釜谷': {},\n",
            "                 '須賀': {},\n",
            "                 '須賀南': {}}},\n",
            " '静岡県': {'富士市': {'今泉': {}, '原田': {}, '比奈': {}},\n",
            "         '沼津市': {'大手町５丁目': {}, '添地町': {}, '白銀町': {}, '西条町': {}}}}\n"
          ],
          "name": "stdout"
        }
      ]
    },
    {
      "cell_type": "code",
      "metadata": {
        "id": "LMZe9If6V_vU",
        "colab_type": "code",
        "colab": {}
      },
      "source": [
        "# print(soup.findAll(\"table\", {\"class\":\"bo_lv4\"}))\n",
        "# from pprint import pprint\n",
        "# pprint(soup)"
      ],
      "execution_count": 0,
      "outputs": []
    },
    {
      "cell_type": "code",
      "metadata": {
        "id": "KRBemj4gF2oP",
        "colab_type": "code",
        "colab": {}
      },
      "source": [
        "# from pprint import pprint\n",
        "# pprint(span)"
      ],
      "execution_count": 0,
      "outputs": []
    },
    {
      "cell_type": "code",
      "metadata": {
        "id": "451vvYfcGLVX",
        "colab_type": "code",
        "colab": {}
      },
      "source": [
        "# print(span[0].get(\"class\").pop(0))"
      ],
      "execution_count": 0,
      "outputs": []
    },
    {
      "cell_type": "code",
      "metadata": {
        "id": "eA46o3liqYS6",
        "colab_type": "code",
        "colab": {}
      },
      "source": [
        "# nikkei_heikin=\"\"\n",
        "# for tag in span:\n",
        "#     try:\n",
        "#         #⑥「span」要素から「class」をpopしていきます。\n",
        "#         string_ = tag.get(\"class\").pop(0)\n",
        "#         #⑦摘出したclassの文字列にm-miH01C_rateが設定されているかチェックします。\n",
        "#         # if string_ in \"m-miH01C_rate\": #k-hub-market__current-price\n",
        "#         if string_ in \"k-hub-market__current-price\": #\n",
        "        \n",
        "#             #⑧tagの文字列(日経平均株価)を取得します。\n",
        "#             nikkei_heikin = tag.string\n",
        "#             #⑨ループ処理を中断します。\n",
        "#             print(\"get\")\n",
        "#             break\n",
        "#     except:\n",
        "#         #⑥'「span」要素から「class」をpopできなかった場合何もしません。\n",
        "#         pass"
      ],
      "execution_count": 0,
      "outputs": []
    },
    {
      "cell_type": "code",
      "metadata": {
        "id": "Wkezd2BHqbFS",
        "colab_type": "code",
        "colab": {}
      },
      "source": [
        "# print(nikkei_heikin)"
      ],
      "execution_count": 0,
      "outputs": []
    }
  ]
}